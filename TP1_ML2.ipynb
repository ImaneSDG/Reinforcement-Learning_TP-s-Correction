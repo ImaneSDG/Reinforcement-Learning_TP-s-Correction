{
 "cells": [
  {
   "cell_type": "markdown",
   "id": "b787f8b1-1ed6-416b-bd77-5ae1612a1de4",
   "metadata": {},
   "source": [
    "## Installation de Gym et Création d'un environnement"
   ]
  },
  {
   "cell_type": "code",
   "execution_count": 1,
   "id": "cad9573c-7a73-496d-93b8-4755df07cfd1",
   "metadata": {},
   "outputs": [
    {
     "name": "stdout",
     "output_type": "stream",
     "text": [
      "Requirement already satisfied: gymnasium in c:\\users\\hp\\anaconda3\\lib\\site-packages (1.0.0)Note: you may need to restart the kernel to use updated packages.\n"
     ]
    },
    {
     "name": "stderr",
     "output_type": "stream",
     "text": [
      "WARNING: Ignoring invalid distribution ~atplotlib (C:\\Users\\hp\\anaconda3\\Lib\\site-packages)\n",
      "WARNING: Ignoring invalid distribution ~atplotlib (C:\\Users\\hp\\anaconda3\\Lib\\site-packages)\n",
      "WARNING: Ignoring invalid distribution ~atplotlib (C:\\Users\\hp\\anaconda3\\Lib\\site-packages)\n"
     ]
    },
    {
     "name": "stdout",
     "output_type": "stream",
     "text": [
      "\n",
      "Collecting gymnasium\n",
      "  Downloading gymnasium-1.1.0-py3-none-any.whl.metadata (9.4 kB)\n",
      "Requirement already satisfied: pygame in c:\\users\\hp\\anaconda3\\lib\\site-packages (2.6.1)\n",
      "Requirement already satisfied: numpy in c:\\users\\hp\\anaconda3\\lib\\site-packages (2.2.3)\n",
      "Requirement already satisfied: cloudpickle>=1.2.0 in c:\\users\\hp\\anaconda3\\lib\\site-packages (from gymnasium) (3.0.0)\n",
      "Requirement already satisfied: typing-extensions>=4.3.0 in c:\\users\\hp\\anaconda3\\lib\\site-packages (from gymnasium) (4.11.0)\n",
      "Requirement already satisfied: farama-notifications>=0.0.1 in c:\\users\\hp\\anaconda3\\lib\\site-packages (from gymnasium) (0.0.4)\n",
      "Downloading gymnasium-1.1.0-py3-none-any.whl (965 kB)\n",
      "   ---------------------------------------- 0.0/965.5 kB ? eta -:--:--\n",
      "   ---------- ----------------------------- 262.1/965.5 kB ? eta -:--:--\n",
      "   -------------------------------- ------- 786.4/965.5 kB 5.6 MB/s eta 0:00:01\n",
      "   ---------------------------------------- 965.5/965.5 kB 2.0 MB/s eta 0:00:00\n",
      "Installing collected packages: gymnasium\n",
      "  Attempting uninstall: gymnasium\n",
      "    Found existing installation: gymnasium 1.0.0\n",
      "    Uninstalling gymnasium-1.0.0:\n",
      "      Successfully uninstalled gymnasium-1.0.0\n",
      "Successfully installed gymnasium-1.1.0\n"
     ]
    }
   ],
   "source": [
    "pip install --upgrade gymnasium pygame numpy"
   ]
  },
  {
   "cell_type": "code",
   "execution_count": 36,
   "id": "e04f78d8-3cd9-4143-a50e-9725062f081d",
   "metadata": {},
   "outputs": [],
   "source": [
    "import gymnasium as gym"
   ]
  },
  {
   "cell_type": "code",
   "execution_count": 49,
   "id": "69fc5fdd-481d-4cbe-af6d-7c28e1dbeb52",
   "metadata": {},
   "outputs": [
    {
     "data": {
      "text/plain": [
       "(array([ 0.02439892, -0.00723789, -0.03036326, -0.04734882], dtype=float32),\n",
       " {})"
      ]
     },
     "execution_count": 49,
     "metadata": {},
     "output_type": "execute_result"
    }
   ],
   "source": [
    "env = gym.make(\"CartPole-v1\", render_mode = \"rgb_array\")  # Création de l'environnement\n",
    "\n",
    "env.reset()  # initialise l’environnement avant de commencer."
   ]
  },
  {
   "cell_type": "markdown",
   "id": "eb510d36-e4d1-4428-95c9-03702b16096b",
   "metadata": {},
   "source": [
    "## Ex1 : Découverte et Exploration d'un Environnement Gym"
   ]
  },
  {
   "cell_type": "code",
   "execution_count": 52,
   "id": "96654411-5d05-47e7-8cfd-dfd08c6577c6",
   "metadata": {},
   "outputs": [
    {
     "name": "stdout",
     "output_type": "stream",
     "text": [
      "Espace d'action : Discrete(2)\n",
      "Espace d'observation : Box([-4.8               -inf -0.41887903        -inf], [4.8               inf 0.41887903        inf], (4,), float32)\n"
     ]
    }
   ],
   "source": [
    "print (f\"Espace d'action : {env.action_space}\")  #l’environnement accepte uniquement deux actions discrètes (0 ou 1).\n",
    "print (f\"Espace d'observation : {env.observation_space}\") #donne les informations d’état (ex. : position du chariot, vitesse, angle de la barre, etc.)."
   ]
  },
  {
   "cell_type": "code",
   "execution_count": 54,
   "id": "af87101c-6a97-4b89-9367-4e92b52321e6",
   "metadata": {},
   "outputs": [
    {
     "name": "stdout",
     "output_type": "stream",
     "text": [
      "Action : 1, Observation : [ 0.02425416  0.18830599 -0.03131024 -0.34945488], Reward : 1.0\n",
      "Action : 1, Observation : [ 0.02802028  0.38385895 -0.03829933 -0.6518442 ], Reward : 1.0\n",
      "Action : 0, Observation : [ 0.03569746  0.18929072 -0.05133622 -0.37146318], Reward : 1.0\n",
      "Action : 0, Observation : [ 0.03948328 -0.00506575 -0.05876548 -0.09539876], Reward : 1.0\n",
      "Action : 1, Observation : [ 0.03938196  0.19084707 -0.06067346 -0.40602782], Reward : 1.0\n",
      "Action : 1, Observation : [ 0.0431989   0.38677457 -0.06879401 -0.71720535], Reward : 1.0\n",
      "Action : 0, Observation : [ 0.05093439  0.19266874 -0.08313812 -0.44694477], Reward : 1.0\n",
      "Action : 1, Observation : [ 0.05478777  0.38886234 -0.09207702 -0.7646332 ], Reward : 1.0\n",
      "Action : 0, Observation : [ 0.06256501  0.19512086 -0.10736968 -0.5022844 ], Reward : 1.0\n",
      "Action : 1, Observation : [ 0.06646743  0.3915794  -0.11741537 -0.8267813 ], Reward : 1.0\n",
      "Action : 0, Observation : [ 0.07429902  0.19824192 -0.133951   -0.57321274], Reward : 1.0\n",
      "Action : 1, Observation : [ 0.07826386  0.3949625  -0.14541525 -0.90491414], Reward : 1.0\n",
      "Action : 1, Observation : [ 0.0861631   0.59172255 -0.16351353 -1.2395409 ], Reward : 1.0\n",
      "Action : 0, Observation : [ 0.09799756  0.39903367 -0.18830435 -1.002222  ], Reward : 1.0\n",
      "Action : 1, Observation : [ 0.10597823  0.5961041  -0.2083488  -1.3476369 ], Reward : 1.0\n",
      "Action : 1, Observation : [ 0.11790031  0.79314494 -0.23530152 -1.6976188 ], Reward : 1.0\n",
      "Action : 1, Observation : [ 0.03622736  0.15954466 -0.0485694  -0.29426196], Reward : 1.0\n",
      "Action : 0, Observation : [ 0.03941825 -0.0348524  -0.05445464 -0.01728402], Reward : 1.0\n",
      "Action : 0, Observation : [ 0.03872121 -0.22915283 -0.05480032  0.25773287], Reward : 1.0\n",
      "Action : 0, Observation : [ 0.03413815 -0.42345133 -0.04964567  0.53263986], Reward : 1.0\n",
      "Action : 0, Observation : [ 0.02566912 -0.6178412  -0.03899287  0.80927557], Reward : 1.0\n",
      "Action : 0, Observation : [ 0.0133123  -0.81240773 -0.02280736  1.0894426 ], Reward : 1.0\n",
      "Action : 1, Observation : [-0.00293585 -0.61699265 -0.00101851  0.7896914 ], Reward : 1.0\n",
      "Action : 0, Observation : [-0.01527571 -0.8121006   0.01477532  1.0820537 ], Reward : 1.0\n",
      "Action : 0, Observation : [-0.03151772 -1.0074145   0.0364164   1.3793362 ], Reward : 1.0\n",
      "Action : 0, Observation : [-0.05166601 -1.2029717   0.06400312  1.6831816 ], Reward : 1.0\n",
      "Action : 1, Observation : [-0.07572544 -1.0086465   0.09766676  1.4110948 ], Reward : 1.0\n",
      "Action : 1, Observation : [-0.09589837 -0.8148617   0.12588865  1.1504713 ], Reward : 1.0\n",
      "Action : 0, Observation : [-0.1121956  -1.0113813   0.14889808  1.4798315 ], Reward : 1.0\n",
      "Action : 0, Observation : [-0.13242324 -1.2079737   0.1784947   1.8150717 ], Reward : 1.0\n",
      "Action : 0, Observation : [-0.1565827  -1.4045774   0.21479614  2.157491  ], Reward : 1.0\n",
      "Action : 0, Observation : [ 0.0195666  -0.18448447 -0.01044081  0.3183593 ], Reward : 1.0\n",
      "Action : 0, Observation : [ 0.01587691 -0.37945616 -0.00407362  0.60773134], Reward : 1.0\n",
      "Action : 1, Observation : [ 0.00828778 -0.1842775   0.008081    0.31376812], Reward : 1.0\n",
      "Action : 0, Observation : [ 0.00460223 -0.37951365  0.01435637  0.6089885 ], Reward : 1.0\n",
      "Action : 0, Observation : [-0.00298804 -0.57483333  0.02653614  0.9061585 ], Reward : 1.0\n",
      "Action : 1, Observation : [-0.0144847  -0.38008052  0.04465931  0.62193286], Reward : 1.0\n",
      "Action : 0, Observation : [-0.02208631 -0.5757967   0.05709796  0.9283399 ], Reward : 1.0\n",
      "Action : 1, Observation : [-0.03360225 -0.38149017  0.07566476  0.6541328 ], Reward : 1.0\n",
      "Action : 0, Observation : [-0.04123205 -0.57757956  0.08874742  0.96964955], Reward : 1.0\n",
      "Action : 1, Observation : [-0.05278365 -0.38375384  0.10814041  0.7061126 ], Reward : 1.0\n",
      "Action : 1, Observation : [-0.06045872 -0.19028312  0.12226266  0.4493331 ], Reward : 1.0\n",
      "Action : 1, Observation : [-0.06426439  0.00291658  0.13124932  0.19755258], Reward : 1.0\n",
      "Action : 0, Observation : [-0.06420605 -0.19381459  0.13520037  0.5285879 ], Reward : 1.0\n",
      "Action : 0, Observation : [-0.06808235 -0.39055368  0.14577213  0.8606314 ], Reward : 1.0\n",
      "Action : 1, Observation : [-0.07589342 -0.19768564  0.16298476  0.617103  ], Reward : 1.0\n",
      "Action : 0, Observation : [-0.07984713 -0.39466408  0.17532682  0.9563606 ], Reward : 1.0\n",
      "Action : 1, Observation : [-0.08774041 -0.20227802  0.19445403  0.723488  ], Reward : 1.0\n",
      "Action : 1, Observation : [-0.09178597 -0.01030087  0.20892379  0.4977593 ], Reward : 1.0\n",
      "Action : 0, Observation : [-0.09199199 -0.2076613   0.21887897  0.84834015], Reward : 1.0\n",
      "Action : 0, Observation : [ 0.0474494  -0.14580122 -0.00394552  0.2974646 ], Reward : 1.0\n",
      "Action : 1, Observation : [0.04453338 0.04937675 0.00200377 0.00353996], Reward : 1.0\n",
      "Action : 1, Observation : [ 0.04552091  0.24446991  0.00207457 -0.28851008], Reward : 1.0\n",
      "Action : 0, Observation : [ 0.05041031  0.04931844 -0.00369563  0.00482643], Reward : 1.0\n",
      "Action : 0, Observation : [ 0.05139668 -0.14575031 -0.0035991   0.29634106], Reward : 1.0\n",
      "Action : 0, Observation : [ 0.04848167 -0.3408208   0.00232772  0.5878867 ], Reward : 1.0\n",
      "Action : 0, Observation : [ 0.04166526 -0.5359753   0.01408545  0.881302  ], Reward : 1.0\n",
      "Action : 1, Observation : [ 0.03094575 -0.34104744  0.03171149  0.5930802 ], Reward : 1.0\n",
      "Action : 0, Observation : [ 0.0241248 -0.5365986  0.0435731  0.8955811], Reward : 1.0\n",
      "Action : 1, Observation : [ 0.01339283 -0.34209368  0.06148472  0.6169071 ], Reward : 1.0\n",
      "Action : 1, Observation : [ 0.00655096 -0.14788213  0.07382286  0.34420538], Reward : 1.0\n",
      "Action : 0, Observation : [ 0.00359332 -0.34397238  0.08070697  0.65922385], Reward : 1.0\n",
      "Action : 1, Observation : [-0.00328613 -0.15006092  0.09389145  0.39300552], Reward : 1.0\n",
      "Action : 1, Observation : [-0.00628735  0.04361196  0.10175156  0.13133933], Reward : 1.0\n",
      "Action : 0, Observation : [-0.00541511 -0.1528092   0.10437835  0.45431054], Reward : 1.0\n",
      "Action : 0, Observation : [-0.00847129 -0.34924024  0.11346456  0.77798504], Reward : 1.0\n",
      "Action : 1, Observation : [-0.0154561  -0.15584615  0.12902425  0.5230463 ], Reward : 1.0\n",
      "Action : 1, Observation : [-0.01857302  0.03724631  0.13948518  0.27364308], Reward : 1.0\n",
      "Action : 0, Observation : [-0.0178281  -0.1595617   0.14495805  0.6068637 ], Reward : 1.0\n",
      "Action : 0, Observation : [-0.02101933 -0.35638115  0.15709531  0.9414651 ], Reward : 1.0\n",
      "Action : 1, Observation : [-0.02814695 -0.16368511  0.17592461  0.7019766 ], Reward : 1.0\n",
      "Action : 0, Observation : [-0.03142066 -0.36075252  0.18996416  1.0444707 ], Reward : 1.0\n",
      "Action : 0, Observation : [-0.0386357  -0.55781865  0.21085356  1.3902665 ], Reward : 1.0\n",
      "Action : 0, Observation : [ 0.00266994 -0.17717257 -0.01063283  0.32385787], Reward : 1.0\n",
      "Action : 1, Observation : [-0.00087351  0.01809916 -0.00415568  0.02784084], Reward : 1.0\n",
      "Action : 1, Observation : [-0.00051153  0.21328045 -0.00359886 -0.26615036], Reward : 1.0\n",
      "Action : 1, Observation : [ 0.00375408  0.40845358 -0.00892187 -0.5599662 ], Reward : 1.0\n",
      "Action : 0, Observation : [ 0.01192315  0.21345799 -0.02012119 -0.27010745], Reward : 1.0\n",
      "Action : 1, Observation : [ 0.01619231  0.40886122 -0.02552334 -0.5690682 ], Reward : 1.0\n",
      "Action : 1, Observation : [ 0.02436953  0.6043317  -0.0369047  -0.8696814 ], Reward : 1.0\n",
      "Action : 1, Observation : [ 0.03645617  0.7999357  -0.05429833 -1.1737351 ], Reward : 1.0\n",
      "Action : 1, Observation : [ 0.05245488  0.9957197  -0.07777303 -1.4829342 ], Reward : 1.0\n",
      "Action : 1, Observation : [ 0.07236928  1.1916993  -0.10743172 -1.7988572 ], Reward : 1.0\n",
      "Action : 0, Observation : [ 0.09620326  0.9979307  -0.14340886 -1.5414042 ], Reward : 1.0\n",
      "Action : 0, Observation : [ 0.11616188  0.8047948  -0.17423695 -1.2966921 ], Reward : 1.0\n",
      "Action : 0, Observation : [ 0.13225777  0.61226034 -0.2001708  -1.0632302 ], Reward : 1.0\n",
      "Action : 1, Observation : [ 0.14450298  0.80938745 -0.2214354  -1.4114745 ], Reward : 1.0\n",
      "Action : 1, Observation : [-0.0335465   0.21144994 -0.04498499 -0.3530692 ], Reward : 1.0\n",
      "Action : 0, Observation : [-0.02931751  0.01699557 -0.05204637 -0.07490385], Reward : 1.0\n",
      "Action : 1, Observation : [-0.0289776   0.21282353 -0.05354445 -0.38354275], Reward : 1.0\n",
      "Action : 0, Observation : [-0.02472112  0.01850106 -0.0612153  -0.10821135], Reward : 1.0\n",
      "Action : 0, Observation : [-0.0243511  -0.17569268 -0.06337953  0.1645476 ], Reward : 1.0\n",
      "Action : 1, Observation : [-0.02786496  0.02027659 -0.06008857 -0.14743721], Reward : 1.0\n",
      "Action : 0, Observation : [-0.02745942 -0.1739357  -0.06303732  0.12570004], Reward : 1.0\n",
      "Action : 0, Observation : [-0.03093814 -0.36810058 -0.06052332  0.3978482 ], Reward : 1.0\n",
      "Action : 0, Observation : [-0.03830015 -0.56231403 -0.05256635  0.67085195], Reward : 1.0\n",
      "Action : 0, Observation : [-0.04954643 -0.75666726 -0.03914932  0.9465318 ], Reward : 1.0\n",
      "Action : 0, Observation : [-0.06467978 -0.9512408  -0.02021868  1.2266613 ], Reward : 1.0\n",
      "Action : 1, Observation : [-0.08370459 -0.75586444  0.00431455  0.9277129 ], Reward : 1.0\n",
      "Action : 1, Observation : [-0.09882188 -0.560801    0.0228688   0.63638896], Reward : 1.0\n"
     ]
    }
   ],
   "source": [
    "for _ in range(100):\n",
    "    action = env.action_space.sample() # choisir une action aléatoire soit (0 ou 1)\n",
    "    observation, reward, done, _, _ = env.step(action) # Appliquer l'action\n",
    "    print(f\"Action : {action}, Observation : {observation}, Reward : {reward}\")\n",
    "    if done: # Si l'épisode est terminé, on recommence\n",
    "        env.reset()\n",
    "env.close()"
   ]
  },
  {
   "cell_type": "markdown",
   "id": "0a1ab5ab-3bfd-4af3-bbad-b2522f136389",
   "metadata": {},
   "source": [
    "## Ex2 : Manipulation des Observations et Récompenses"
   ]
  },
  {
   "cell_type": "code",
   "execution_count": 57,
   "id": "2060611c-a30a-4269-a653-11c35a460a2b",
   "metadata": {},
   "outputs": [
    {
     "name": "stdout",
     "output_type": "stream",
     "text": [
      "Action: 1, Observation: [-0.1100379  -0.36600533  0.03559658  0.3509947 ], Récompense: 1.0\n"
     ]
    }
   ],
   "source": [
    "action = env.action_space.sample()  # Action aléatoire ( 0 ou 1 )\n",
    "observation, reward, done, _, _ = env.step(action)\n",
    "\n",
    "print(f\"Action: {action}, Observation: {observation}, Récompense: {reward}\")\n"
   ]
  },
  {
   "cell_type": "code",
   "execution_count": 122,
   "id": "396289f7-f6b8-41fe-bb38-10675eab1438",
   "metadata": {},
   "outputs": [
    {
     "name": "stdout",
     "output_type": "stream",
     "text": [
      "Action: 0, Observation: [ 0.08290786  0.43560973 -0.26302075 -1.1454061 ], Récompense: 0.0\n",
      "Action: 1, Observation: [ 0.03465345  0.14715639  0.03871386 -0.30603018], Récompense: 1.0\n",
      "Action: 0, Observation: [ 0.03759658 -0.04849523  0.03259326 -0.0013936 ], Récompense: 1.0\n",
      "Action: 1, Observation: [ 0.03662667  0.1461445   0.03256539 -0.2836174 ], Récompense: 1.0\n",
      "Action: 0, Observation: [ 0.03954956 -0.04942644  0.02689304  0.01915599], Récompense: 1.0\n",
      "Action: 1, Observation: [ 0.03856103  0.14529972  0.02727616 -0.26492202], Récompense: 1.0\n",
      "Action: 0, Observation: [ 0.04146703 -0.05020071  0.02197772  0.03623774], Récompense: 1.0\n",
      "Action: 1, Observation: [ 0.04046301  0.14459929  0.02270247 -0.24943078], Récompense: 1.0\n",
      "Action: 1, Observation: [ 0.043355    0.3393898   0.01771386 -0.5348673 ], Récompense: 1.0\n",
      "Action: 0, Observation: [ 0.05014279  0.14402328  0.00701651 -0.23665589], Récompense: 1.0\n"
     ]
    }
   ],
   "source": [
    "for _ in range(10):  # Effectuer 10 essais\n",
    "    action = env.action_space.sample()\n",
    "    observation, reward, done, _, _ = env.step(action)\n",
    "    print(f\"Action: {action}, Observation: {observation}, Récompense: {reward}\")\n",
    "\n",
    "    if done:\n",
    "        env.reset()\n",
    "env.close()"
   ]
  },
  {
   "cell_type": "markdown",
   "id": "04f5074d-54aa-4e5c-81ca-fd8dc34ff812",
   "metadata": {},
   "source": [
    "## Ex3 : Controle Manuel de l'Agent"
   ]
  },
  {
   "cell_type": "code",
   "execution_count": 124,
   "id": "9618e3b9-1a86-441c-905b-1506252f4d9c",
   "metadata": {},
   "outputs": [
    {
     "name": "stdin",
     "output_type": "stream",
     "text": [
      "Entrez une action (0 pour gauche, 1 pour droite) :  k\n"
     ]
    },
    {
     "name": "stdout",
     "output_type": "stream",
     "text": [
      "Veuillez entrer un nombre valide (0 ou 1).\n"
     ]
    },
    {
     "name": "stdin",
     "output_type": "stream",
     "text": [
      "Entrez une action (0 pour gauche, 1 pour droite) :  1\n"
     ]
    },
    {
     "name": "stdout",
     "output_type": "stream",
     "text": [
      "Observation: [ 0.05302326  0.3390443   0.0022834  -0.5271174 ], Récompense: 1.0\n"
     ]
    },
    {
     "name": "stdin",
     "output_type": "stream",
     "text": [
      "Entrez une action (0 pour gauche, 1 pour droite) :  0\n"
     ]
    },
    {
     "name": "stdout",
     "output_type": "stream",
     "text": [
      "Observation: [ 0.05980415  0.14389029 -0.00825895 -0.2337158 ], Récompense: 1.0\n"
     ]
    },
    {
     "name": "stdin",
     "output_type": "stream",
     "text": [
      "Entrez une action (0 pour gauche, 1 pour droite) :  0\n"
     ]
    },
    {
     "name": "stdout",
     "output_type": "stream",
     "text": [
      "Observation: [ 0.06268195 -0.05111269 -0.01293327  0.05635058], Récompense: 1.0\n"
     ]
    },
    {
     "name": "stdin",
     "output_type": "stream",
     "text": [
      "Entrez une action (0 pour gauche, 1 pour droite) :  0\n"
     ]
    },
    {
     "name": "stdout",
     "output_type": "stream",
     "text": [
      "Observation: [ 0.0616597  -0.24604683 -0.01180626  0.34492508], Récompense: 1.0\n"
     ]
    },
    {
     "name": "stdin",
     "output_type": "stream",
     "text": [
      "Entrez une action (0 pour gauche, 1 pour droite) :  0\n"
     ]
    },
    {
     "name": "stdout",
     "output_type": "stream",
     "text": [
      "Observation: [ 0.05673876 -0.44099885 -0.00490776  0.6338618 ], Récompense: 1.0\n"
     ]
    },
    {
     "name": "stdin",
     "output_type": "stream",
     "text": [
      "Entrez une action (0 pour gauche, 1 pour droite) :  0\n"
     ]
    },
    {
     "name": "stdout",
     "output_type": "stream",
     "text": [
      "Observation: [ 0.04791879 -0.636052    0.00776948  0.9249951 ], Récompense: 1.0\n"
     ]
    },
    {
     "name": "stdin",
     "output_type": "stream",
     "text": [
      "Entrez une action (0 pour gauche, 1 pour droite) :  0\n"
     ]
    },
    {
     "name": "stdout",
     "output_type": "stream",
     "text": [
      "Observation: [ 0.03519774 -0.831278    0.02626938  1.2201095 ], Récompense: 1.0\n"
     ]
    },
    {
     "name": "stdin",
     "output_type": "stream",
     "text": [
      "Entrez une action (0 pour gauche, 1 pour droite) :  0\n"
     ]
    },
    {
     "name": "stdout",
     "output_type": "stream",
     "text": [
      "Observation: [ 0.01857218 -1.0267285   0.05067157  1.5209064 ], Récompense: 1.0\n"
     ]
    },
    {
     "name": "stdin",
     "output_type": "stream",
     "text": [
      "Entrez une action (0 pour gauche, 1 pour droite) :  0\n"
     ]
    },
    {
     "name": "stdout",
     "output_type": "stream",
     "text": [
      "Observation: [-0.00196239 -1.2224249   0.0810897   1.8289653 ], Récompense: 1.0\n"
     ]
    },
    {
     "name": "stdin",
     "output_type": "stream",
     "text": [
      "Entrez une action (0 pour gauche, 1 pour droite) :  0\n"
     ]
    },
    {
     "name": "stdout",
     "output_type": "stream",
     "text": [
      "Observation: [-0.02641089 -1.4183463   0.11766901  2.145696  ], Récompense: 1.0\n"
     ]
    },
    {
     "name": "stdin",
     "output_type": "stream",
     "text": [
      "Entrez une action (0 pour gauche, 1 pour droite) :  0\n"
     ]
    },
    {
     "name": "stdout",
     "output_type": "stream",
     "text": [
      "Observation: [-0.05477781 -1.6144152   0.16058293  2.4722805 ], Récompense: 1.0\n"
     ]
    },
    {
     "name": "stdin",
     "output_type": "stream",
     "text": [
      "Entrez une action (0 pour gauche, 1 pour droite) :  0\n"
     ]
    },
    {
     "name": "stdout",
     "output_type": "stream",
     "text": [
      "Observation: [-0.08706611 -1.8104806   0.21002853  2.8096035 ], Récompense: 1.0\n",
      "Épisode terminé après 12 actions !\n"
     ]
    }
   ],
   "source": [
    "duration = 0  \n",
    "\n",
    "while True:\n",
    "    try:\n",
    "        action = int(input(\"Entrez une action (0 pour gauche, 1 pour droite) : \"))\n",
    "\n",
    "        if action not in [0, 1]: \n",
    "            print(\"Action invalide ! Veuillez entrer 0 ou 1.\")\n",
    "            continue\n",
    "\n",
    "        observation, reward, done, _, _ = env.step(action)\n",
    "        duration += 1  \n",
    "\n",
    "        print(f\"Observation: {observation}, Récompense: {reward}\")\n",
    "\n",
    "        if done: \n",
    "            print(f\"Épisode terminé après {duration} actions !\")\n",
    "            break\n",
    "            env.reset()\n",
    "\n",
    "    except ValueError:\n",
    "        print(\"Veuillez entrer un nombre valide (0 ou 1).\")\n",
    "\n",
    "env.close()"
   ]
  },
  {
   "cell_type": "markdown",
   "id": "3cd18277-6977-4eb3-b02a-d2c1b9f4f6a2",
   "metadata": {},
   "source": [
    "## Ex4 : Evaluation des performances d'une politique aléatoire"
   ]
  },
  {
   "cell_type": "code",
   "execution_count": 158,
   "id": "897adb5a-018d-49df-b7df-5df6994ec0e1",
   "metadata": {},
   "outputs": [
    {
     "name": "stdout",
     "output_type": "stream",
     "text": [
      "Episode 1: duration: 18\n",
      "Episode 2: duration: 25\n",
      "Episode 3: duration: 49\n",
      "Episode 4: duration: 12\n",
      "Episode 5: duration: 10\n",
      "Episode 6: duration: 35\n",
      "Episode 7: duration: 22\n",
      "Episode 8: duration: 34\n",
      "Episode 9: duration: 28\n",
      "Episode 10: duration: 19\n",
      "Durée moyenne avant la fin de l'épisode : 19.0\n"
     ]
    }
   ],
   "source": [
    "import numpy as np\n",
    "\n",
    "durations = []\n",
    "\n",
    "for episode in range(10):\n",
    "    env.reset()\n",
    "    duration = 0\n",
    "\n",
    "    while True:\n",
    "        action = env.action_space.sample()  \n",
    "        _, _, done, _, _ = env.step(action)\n",
    "        duration += 1\n",
    "\n",
    "        if done:\n",
    "            print(f\"Episode {episode + 1}: duration: {duration}\")\n",
    "            durations.append(duration)\n",
    "            break\n",
    "env.close()\n",
    "moyenne = np.mean(duration)\n",
    "print(f\"Durée moyenne avant la fin de l'épisode : {moyenne}\")\n"
   ]
  },
  {
   "cell_type": "code",
   "execution_count": null,
   "id": "64ba6a30-a83b-4ce5-88d1-90e22ecb980a",
   "metadata": {},
   "outputs": [],
   "source": []
  },
  {
   "cell_type": "code",
   "execution_count": null,
   "id": "efcc0818-f528-4c65-8225-ee402a33999b",
   "metadata": {},
   "outputs": [],
   "source": []
  }
 ],
 "metadata": {
  "kernelspec": {
   "display_name": "Python 3 (ipykernel)",
   "language": "python",
   "name": "python3"
  },
  "language_info": {
   "codemirror_mode": {
    "name": "ipython",
    "version": 3
   },
   "file_extension": ".py",
   "mimetype": "text/x-python",
   "name": "python",
   "nbconvert_exporter": "python",
   "pygments_lexer": "ipython3",
   "version": "3.12.7"
  }
 },
 "nbformat": 4,
 "nbformat_minor": 5
}
