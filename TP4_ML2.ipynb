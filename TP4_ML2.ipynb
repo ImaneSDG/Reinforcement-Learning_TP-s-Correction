{
 "cells": [
  {
   "cell_type": "markdown",
   "id": "53d50460-3ffd-4c26-8c30-64c4089fc255",
   "metadata": {},
   "source": [
    "### Ex1 : Initialisation de l’environnement et des structures de données"
   ]
  },
  {
   "cell_type": "code",
   "execution_count": 65,
   "id": "82c07709-de23-4803-929f-e2b5d81e5850",
   "metadata": {},
   "outputs": [],
   "source": [
    "import gymnasium as gym\n",
    "import numpy as np"
   ]
  },
  {
   "cell_type": "code",
   "execution_count": 67,
   "id": "01c5ad39-b275-4961-aa63-dfcc7bd77465",
   "metadata": {},
   "outputs": [
    {
     "name": "stdout",
     "output_type": "stream",
     "text": [
      "nombre d'états : 500\n",
      "nombre d'actions : 6\n"
     ]
    }
   ],
   "source": [
    "env = gym.make(\"Taxi-v3\")\n",
    "\n",
    "state_size = env.observation_space.n\n",
    "action_size = env.action_space.n\n",
    "\n",
    "print(f\"nombre d'états : {state_size}\")\n",
    "print(f\"nombre d'actions : {action_size}\")"
   ]
  },
  {
   "cell_type": "code",
   "execution_count": 69,
   "id": "d10b62ad-40be-45d8-b290-788875f0771d",
   "metadata": {},
   "outputs": [
    {
     "name": "stdout",
     "output_type": "stream",
     "text": [
      "Les dix premières lignes de policy_table : \n",
      "\n",
      "[[0.16666667 0.16666667 0.16666667 0.16666667 0.16666667 0.16666667]\n",
      " [0.16666667 0.16666667 0.16666667 0.16666667 0.16666667 0.16666667]\n",
      " [0.16666667 0.16666667 0.16666667 0.16666667 0.16666667 0.16666667]\n",
      " [0.16666667 0.16666667 0.16666667 0.16666667 0.16666667 0.16666667]\n",
      " [0.16666667 0.16666667 0.16666667 0.16666667 0.16666667 0.16666667]\n",
      " [0.16666667 0.16666667 0.16666667 0.16666667 0.16666667 0.16666667]\n",
      " [0.16666667 0.16666667 0.16666667 0.16666667 0.16666667 0.16666667]\n",
      " [0.16666667 0.16666667 0.16666667 0.16666667 0.16666667 0.16666667]\n",
      " [0.16666667 0.16666667 0.16666667 0.16666667 0.16666667 0.16666667]\n",
      " [0.16666667 0.16666667 0.16666667 0.16666667 0.16666667 0.16666667]]\n",
      "\n",
      " Les dix premières lignes de value_table :\n",
      "[0. 0. 0. 0. 0. 0. 0. 0. 0. 0.]\n"
     ]
    }
   ],
   "source": [
    "# Table de politique \n",
    "policy_table = np.ones((state_size, action_size)) / action_size\n",
    "\n",
    "# Table de valeurs \n",
    "value_table = np.zeros(state_size)\n",
    "\n",
    "print(\"Les dix premières lignes de policy_table : \\n\")\n",
    "print(policy_table[:10])\n",
    "\n",
    "print(\"\\n Les dix premières lignes de value_table :\")\n",
    "print(value_table[:10])"
   ]
  },
  {
   "cell_type": "markdown",
   "id": "d652335d-e897-42b6-9188-69ea8ffc193e",
   "metadata": {},
   "source": [
    "## Ex2 : Exploration et collecte d’épisodes"
   ]
  },
  {
   "cell_type": "code",
   "execution_count": 82,
   "id": "2e7574e0-1e2d-4ded-ba77-f65ae73d57d0",
   "metadata": {},
   "outputs": [
    {
     "name": "stdout",
     "output_type": "stream",
     "text": [
      "Épisode 1: Action = 4, Récompense totale = -731\n",
      "Épisode 2: Action = 2, Récompense totale = -776\n",
      "Épisode 3: Action = 0, Récompense totale = -821\n",
      "Épisode 4: Action = 3, Récompense totale = -740\n",
      "Épisode 5: Action = 0, Récompense totale = -776\n",
      "Épisode 6: Action = 4, Récompense totale = -812\n",
      "Épisode 7: Action = 2, Récompense totale = -749\n",
      "Épisode 8: Action = 3, Récompense totale = -785\n",
      "Épisode 9: Action = 4, Récompense totale = -668\n",
      "Épisode 10: Action = 4, Récompense totale = -830\n",
      "Épisode 11: Action = 2, Récompense totale = -839\n",
      "Épisode 12: Action = 5, Récompense totale = -740\n",
      "Épisode 13: Action = 2, Récompense totale = -839\n",
      "Épisode 14: Action = 1, Récompense totale = -794\n",
      "Épisode 15: Action = 4, Récompense totale = -767\n",
      "Épisode 16: Action = 2, Récompense totale = -749\n",
      "Épisode 17: Action = 4, Récompense totale = -839\n",
      "Épisode 18: Action = 3, Récompense totale = -758\n",
      "Épisode 19: Action = 2, Récompense totale = -740\n",
      "Épisode 20: Action = 3, Récompense totale = -722\n",
      "\n",
      " Récompense moyenne avant entraînement: -722.0\n"
     ]
    }
   ],
   "source": [
    "for episode in range(20):\n",
    "    state, _ = env.reset()\n",
    "    done = False\n",
    "    total_reward = 0\n",
    "    \n",
    "    while not done:\n",
    "        action = env.action_space.sample()  \n",
    "        next_state, reward, terminated, truncated, _ = env.step(action)\n",
    "        \n",
    "        total_reward += reward\n",
    "        state = next_state\n",
    "        done = terminated or truncated\n",
    "    \n",
    "    print(f\"Épisode {episode + 1}: Action = {action}, Récompense totale = {total_reward}\")\n",
    "print(f\"\\n Récompense moyenne avant entraînement: {np.mean(total_reward)}\")\n"
   ]
  },
  {
   "cell_type": "markdown",
   "id": "8b755ae2-5c5f-4440-87e2-7ffe43a8fc4c",
   "metadata": {},
   "source": [
    "## Ex3 : Mise à jour de la politique avec PPO"
   ]
  },
  {
   "cell_type": "code",
   "execution_count": 75,
   "id": "2f593b54-ba88-4dfe-a0ec-eb4a5dc1c320",
   "metadata": {},
   "outputs": [],
   "source": [
    "gamma = 0.99  \n",
    "lr_policy = 0.1  \n",
    "clip_epsilon = 0.2  \n",
    "\n",
    "episode_states = []\n",
    "episode_actions = []\n",
    "episode_rewards = []\n",
    "\n",
    "for episode in range(20):  \n",
    "    state, _ = env.reset()\n",
    "    done = False\n",
    "    states, actions, rewards = [], [], []\n",
    "    \n",
    "    while not done:\n",
    "        policy_table = np.ones((state_size, action_size)) / action_size\n",
    "  # Action basée sur la politique actuelle\n",
    "        next_state, reward, terminated, truncated, _ = env.step(action)\n",
    "        \n",
    "        states.append(state)\n",
    "        actions.append(action)\n",
    "        rewards.append(reward)\n",
    "\n",
    "        state = next_state\n",
    "        done = terminated or truncated\n",
    "\n",
    "    # Ajouter les données de cet épisode à l’historique global\n",
    "    episode_states.append(states)\n",
    "    episode_actions.append(actions)\n",
    "    episode_rewards.append(rewards)\n",
    "\n",
    "    # Calcul des récompenses cumulées\n",
    "    R = 0\n",
    "    discounted_rewards = []\n",
    "    for r in reversed(rewards):\n",
    "        R = r + gamma * R\n",
    "        discounted_rewards.insert(0, R)\n",
    "\n",
    "    # MAJ de la fonction de valeur et de la politique\n",
    "    for i in range(len(states)):\n",
    "        advantage = discounted_rewards[i] - value_table[states[i]]\n",
    "        \n",
    "        # MAJ de la politique avec clipping\n",
    "        old_prob = policy_table[states[i], actions[i]]\n",
    "        new_prob = old_prob + lr_policy * advantage\n",
    "        policy_table[states[i], actions[i]] = np.clip(new_prob, 1 - clip_epsilon, 1 + clip_epsilon)\n",
    "\n",
    "        # MAJ de la table de valeurs\n",
    "        value_table[states[i]] += lr_policy * advantage\n"
   ]
  },
  {
   "cell_type": "markdown",
   "id": "79af0b8b-a7b4-44e5-a43d-3f61911e0ee0",
   "metadata": {},
   "source": [
    "## Ex4 : Évaluation de l’agent après entraînement"
   ]
  },
  {
   "cell_type": "code",
   "execution_count": 78,
   "id": "aca5f003-9543-4d51-b619-6c1fda3229be",
   "metadata": {},
   "outputs": [
    {
     "name": "stdout",
     "output_type": "stream",
     "text": [
      "Récompense moyenne après entraînement: -200.0\n"
     ]
    }
   ],
   "source": [
    "num_eval_episodes = 20\n",
    "total_rewards = []\n",
    "\n",
    "for ep in range(num_eval_episodes):\n",
    "    state, _ = env.reset()\n",
    "    total_reward = 0\n",
    "    done = False\n",
    "\n",
    "    while not done:\n",
    "        action = np.argmax(policy_table[state])  \n",
    "        next_state, reward, terminated, truncated, _ = env.step(action)\n",
    "        \n",
    "        total_reward += reward\n",
    "        state = next_state\n",
    "        done = terminated or truncated\n",
    "\n",
    "    total_rewards.append(total_reward)\n",
    "\n",
    "print(f\"Récompense moyenne après entraînement: {np.mean(total_rewards)}\")\n"
   ]
  },
  {
   "cell_type": "markdown",
   "id": "46c2e061-00d3-473f-8c60-3aceda634ccc",
   "metadata": {},
   "source": [
    "Comparaison des performances : \n",
    "\n",
    "Avant l'entraînement : l'Agent choisit des actions aléatoirement ==> il a une faible récompense moyenne.\n",
    "\n",
    "Après l'entraînement : l'Agent suit la politique optimisée ==> il obtieent des récompenses plus élevées."
   ]
  },
  {
   "cell_type": "code",
   "execution_count": null,
   "id": "c4a6bc94-55d1-4034-887e-2668bb042d09",
   "metadata": {},
   "outputs": [],
   "source": []
  }
 ],
 "metadata": {
  "kernelspec": {
   "display_name": "Python 3 (ipykernel)",
   "language": "python",
   "name": "python3"
  },
  "language_info": {
   "codemirror_mode": {
    "name": "ipython",
    "version": 3
   },
   "file_extension": ".py",
   "mimetype": "text/x-python",
   "name": "python",
   "nbconvert_exporter": "python",
   "pygments_lexer": "ipython3",
   "version": "3.12.7"
  }
 },
 "nbformat": 4,
 "nbformat_minor": 5
}
