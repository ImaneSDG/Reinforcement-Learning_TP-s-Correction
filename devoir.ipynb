{
 "cells": [
  {
   "cell_type": "code",
   "execution_count": 5,
   "id": "e0695891-06a1-459c-aed6-1a2a51619020",
   "metadata": {},
   "outputs": [
    {
     "name": "stdout",
     "output_type": "stream",
     "text": [
      "Chemin trouvé : ['BAS', 'BAS', 'BAS', 'BAS', 'DROITE', 'HAUT', 'HAUT', 'DROITE', 'HAUT', 'HAUT', 'DROITE', 'DROITE', 'BAS', 'BAS', 'BAS', 'BAS', 'GAUCHE', 'HAUT']\n"
     ]
    }
   ],
   "source": [
    "import numpy as np\n",
    "\n",
    "grid = np.array([\n",
    "    [0, 0, 0, 0, 0],\n",
    "    [0, -10, 0, -10, 0],\n",
    "    [0, 0, 0, 0, 0],\n",
    "    [0, 0, 0, 10, 0],\n",
    "    [0, 0, 0, 0, 0]\n",
    "])\n",
    "\n",
    "moves = {'HAUT': (-1, 0), 'BAS': (1, 0), 'GAUCHE': (0, -1), 'DROITE': (0, 1)}\n",
    "\n",
    "def is_valid_move(x, y):\n",
    "    return 0 <= x < grid.shape[0] and 0 <= y < grid.shape[1] and grid[x, y] != -10\n",
    "\n",
    "def dfs(x, y, path, visited):\n",
    "    if grid[x, y] == 10:\n",
    "        return path\n",
    "    \n",
    "    visited.add((x, y))\n",
    "    for move, (dx, dy) in moves.items():\n",
    "        nx, ny = x + dx, y + dy\n",
    "        if is_valid_move(nx, ny) and (nx, ny) not in visited:\n",
    "            result = dfs(nx, ny, path + [move], visited)\n",
    "            if result:\n",
    "                return result\n",
    "    visited.remove((x, y))\n",
    "    return None\n",
    "\n",
    "start_x, start_y = 0, 0\n",
    "path_to_treasure = dfs(start_x, start_y, [], set())\n",
    "\n",
    "if path_to_treasure:\n",
    "    print(\"Chemin trouvé :\", path_to_treasure)\n",
    "else:\n",
    "    print(\"Aucun chemin trouvé.\")"
   ]
  },
  {
   "cell_type": "code",
   "execution_count": null,
   "id": "bd067cd6-b88d-41f3-952d-91c67b16251f",
   "metadata": {},
   "outputs": [],
   "source": []
  }
 ],
 "metadata": {
  "kernelspec": {
   "display_name": "Python 3 (ipykernel)",
   "language": "python",
   "name": "python3"
  },
  "language_info": {
   "codemirror_mode": {
    "name": "ipython",
    "version": 3
   },
   "file_extension": ".py",
   "mimetype": "text/x-python",
   "name": "python",
   "nbconvert_exporter": "python",
   "pygments_lexer": "ipython3",
   "version": "3.12.7"
  }
 },
 "nbformat": 4,
 "nbformat_minor": 5
}
